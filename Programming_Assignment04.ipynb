{
 "cells": [
  {
   "cell_type": "markdown",
   "id": "941decf0",
   "metadata": {},
   "source": [
    "<b>1. Write a Python Program to Find the Factorial of a Number?</b>"
   ]
  },
  {
   "cell_type": "code",
   "execution_count": 1,
   "id": "0d465d0b",
   "metadata": {},
   "outputs": [
    {
     "name": "stdout",
     "output_type": "stream",
     "text": [
      "Enter a Number: 5\n",
      "Factorial of 5 is 120\n"
     ]
    }
   ],
   "source": [
    "num = int(input(\"Enter a Number: \"))\n",
    "fact = 1\n",
    "if(num<0):\n",
    "  print(\"This is not a valid Number\")\n",
    "else:\n",
    "  for i in range(1, num+1):\n",
    "    fact = fact*i\n",
    "print(\"Factorial of {} is {}\".format(num, fact))"
   ]
  },
  {
   "cell_type": "markdown",
   "id": "cb3bb360",
   "metadata": {},
   "source": [
    "<b>2. Write a Python Program to Display the multiplication Table?</b>"
   ]
  },
  {
   "cell_type": "code",
   "execution_count": 2,
   "id": "0996172a",
   "metadata": {},
   "outputs": [
    {
     "name": "stdout",
     "output_type": "stream",
     "text": [
      "Enter the Number: 9\n",
      "Multiplication Table of 9: \n",
      "9 * 1 = 9\n",
      "9 * 2 = 18\n",
      "9 * 3 = 27\n",
      "9 * 4 = 36\n",
      "9 * 5 = 45\n",
      "9 * 6 = 54\n",
      "9 * 7 = 63\n",
      "9 * 8 = 72\n",
      "9 * 9 = 81\n",
      "9 * 10 = 90\n"
     ]
    }
   ],
   "source": [
    "try:\n",
    "  num=int(input(\"Enter the Number: \"))\n",
    "  print(\"Multiplication Table of {}: \".format(num))\n",
    "  for i in range(1,11):\n",
    "    mul = num*i\n",
    "    print(\"{} * {} = {}\".format(num,i,mul))\n",
    "except ValueError:\n",
    "  print(\"Please enter a valid number\")"
   ]
  },
  {
   "cell_type": "markdown",
   "id": "a9fe85c9",
   "metadata": {},
   "source": [
    "<b>3. Write a Python Program to Print the Fibonacci sequence?</b>"
   ]
  },
  {
   "cell_type": "code",
   "execution_count": 3,
   "id": "1c3718a2",
   "metadata": {},
   "outputs": [
    {
     "name": "stdout",
     "output_type": "stream",
     "text": [
      "Enter the Nth Term: 10\n",
      "0\n",
      "1\n",
      "1\n",
      "2\n",
      "3\n",
      "5\n",
      "8\n",
      "13\n",
      "21\n",
      "34\n"
     ]
    }
   ],
   "source": [
    "try:\n",
    "  nth = int(input(\"Enter the Nth Term: \"))\n",
    "  n1=0\n",
    "  n2=1\n",
    "  count=0\n",
    "  if(nth<0):\n",
    "    print(\"Please Enter a positive Number\")\n",
    "  elif(nth==1):\n",
    "    print(\"Fibonacci Sequence of {} \".format(nth))\n",
    "    print(n1)\n",
    "  else:\n",
    "    while(count<nth):\n",
    "      print(n1)\n",
    "      total = n1+n2\n",
    "      n1=n2\n",
    "      n2=total\n",
    "      count=count+1\n",
    "except ValueError:\n",
    "  print(\"Please enter a valid number\")"
   ]
  },
  {
   "cell_type": "markdown",
   "id": "b4ee45b8",
   "metadata": {},
   "source": [
    "<b>4. Write a Python Program to Check Armstrong Number?</b>"
   ]
  },
  {
   "cell_type": "code",
   "execution_count": 4,
   "id": "2c5c9a25",
   "metadata": {},
   "outputs": [
    {
     "name": "stdout",
     "output_type": "stream",
     "text": [
      "Enter a Number: 153\n",
      "153 is an Armstrong Number\n"
     ]
    }
   ],
   "source": [
    "try:\n",
    "  count=0\n",
    "  num = int(input(\"Enter a Number: \"))\n",
    "  num1=num\n",
    "  while(num/10 != 0):\n",
    "    val = num%10\n",
    "    count = count+val**3\n",
    "    num = num//10\n",
    "  if(num1==count):\n",
    "    print(\"{} is an Armstrong Number\".format(num1))\n",
    "  else:\n",
    "    print(\"{} is not an Armstrong Number\".format(num1))\n",
    "except ValueError:\n",
    "  print(\"Please Enter a valid integer number\")  "
   ]
  },
  {
   "cell_type": "markdown",
   "id": "9b05ffc2",
   "metadata": {},
   "source": [
    "<b>5. Write a Python Program to Find Armstrong Number in an Interval?</b>"
   ]
  },
  {
   "cell_type": "code",
   "execution_count": 6,
   "id": "6bfdfc6b",
   "metadata": {},
   "outputs": [
    {
     "name": "stdout",
     "output_type": "stream",
     "text": [
      "Enter Starting Number of Interval: 1\n",
      "Enter End Number of Interval: 1000\n",
      "1 is an Armstrong Number\n",
      "153 is an Armstrong Number\n",
      "370 is an Armstrong Number\n",
      "371 is an Armstrong Number\n",
      "407 is an Armstrong Number\n"
     ]
    }
   ],
   "source": [
    "try:\n",
    "  start = int(input(\"Enter Starting Number of Interval: \"))\n",
    "  end = int(input(\"Enter End Number of Interval: \"))\n",
    "  for num in range(start,end+1):\n",
    "    count=0\n",
    "    num1=num\n",
    "    while(num/10 != 0):\n",
    "      val = num%10\n",
    "      count = count+val**3\n",
    "      num = num//10\n",
    "    if(num1==count):\n",
    "      print(\"{} is an Armstrong Number\".format(num1))\n",
    "except ValueError:\n",
    "  print(\"Please Enter a valid integer number\")  "
   ]
  },
  {
   "cell_type": "markdown",
   "id": "a12d798a",
   "metadata": {},
   "source": [
    "<b> 6. Write a Python Program to Find the Sum of Natural Numbers? </b>"
   ]
  },
  {
   "cell_type": "code",
   "execution_count": 8,
   "id": "0079dd90",
   "metadata": {},
   "outputs": [
    {
     "name": "stdout",
     "output_type": "stream",
     "text": [
      "Enter a Number: 12\n",
      "Sum of Natural Number: 78\n"
     ]
    }
   ],
   "source": [
    "try:\n",
    "  num = int(input(\"Enter a Number: \"))\n",
    "  if(num<0):\n",
    "    print(\"Please enter a positive number\")\n",
    "  count=0\n",
    "  for num in range(0,num+1):\n",
    "    count=count+num\n",
    "  print(\"Sum of Natural Number: {}\".format(count))\n",
    "except ValueError:\n",
    "  print(\"Please Enter a valid integer number\")  "
   ]
  },
  {
   "cell_type": "code",
   "execution_count": null,
   "id": "f7369497",
   "metadata": {},
   "outputs": [],
   "source": []
  }
 ],
 "metadata": {
  "kernelspec": {
   "display_name": "Python 3 (ipykernel)",
   "language": "python",
   "name": "python3"
  },
  "language_info": {
   "codemirror_mode": {
    "name": "ipython",
    "version": 3
   },
   "file_extension": ".py",
   "mimetype": "text/x-python",
   "name": "python",
   "nbconvert_exporter": "python",
   "pygments_lexer": "ipython3",
   "version": "3.9.7"
  }
 },
 "nbformat": 4,
 "nbformat_minor": 5
}
