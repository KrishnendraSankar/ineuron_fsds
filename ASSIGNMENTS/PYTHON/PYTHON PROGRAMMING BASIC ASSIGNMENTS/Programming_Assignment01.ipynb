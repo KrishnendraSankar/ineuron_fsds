{
 "cells": [
  {
   "cell_type": "markdown",
   "id": "8c6958b7",
   "metadata": {},
   "source": [
    "<b>1.\tWrite a Python program to print \"Hello Python\"?</b>"
   ]
  },
  {
   "cell_type": "code",
   "execution_count": 1,
   "id": "be0cb7f6",
   "metadata": {},
   "outputs": [
    {
     "name": "stdout",
     "output_type": "stream",
     "text": [
      "Hello Python\n"
     ]
    }
   ],
   "source": [
    "print(\"Hello Python\")"
   ]
  },
  {
   "cell_type": "markdown",
   "id": "57cfc637",
   "metadata": {},
   "source": [
    "<b>2.\tWrite a Python program to do arithmetical operations addition and division.?</b>"
   ]
  },
  {
   "cell_type": "code",
   "execution_count": 2,
   "id": "3d165750",
   "metadata": {},
   "outputs": [
    {
     "name": "stdout",
     "output_type": "stream",
     "text": [
      "Enter value of a: 10\n",
      "Enter value of b: 5\n",
      "Addition Result: 15\n",
      "Division Result: 2.0\n"
     ]
    }
   ],
   "source": [
    "a = int(input(\"Enter value of a: \"))\n",
    "b = int(input(\"Enter value of b: \"))\n",
    "add_result = a+b\n",
    "division_result = a/b\n",
    "print(\"Addition Result: {}\".format(add_result))\n",
    "print(\"Division Result: {}\".format(division_result))"
   ]
  },
  {
   "cell_type": "markdown",
   "id": "9e57134c",
   "metadata": {},
   "source": [
    "<b>3.\tWrite a Python program to find the area of a triangle?</b>"
   ]
  },
  {
   "cell_type": "code",
   "execution_count": 3,
   "id": "2a80695c",
   "metadata": {},
   "outputs": [
    {
     "name": "stdout",
     "output_type": "stream",
     "text": [
      "Enter first side: 100\n",
      "Enter second side: 60\n",
      "Enter third side: 70\n",
      "The area of the triangle is 2066.25\n"
     ]
    }
   ],
   "source": [
    "a = float(input('Enter first side: '))\n",
    "b = float(input('Enter second side: '))\n",
    "c = float(input('Enter third side: '))\n",
    "\n",
    "# calculate the semi-perimeter\n",
    "s = (a + b + c) / 2\n",
    "\n",
    "# calculate the area\n",
    "area = (s*(s-a)*(s-b)*(s-c)) ** 0.5\n",
    "print('The area of the triangle is %0.2f' %area)"
   ]
  },
  {
   "cell_type": "markdown",
   "id": "b8192147",
   "metadata": {},
   "source": [
    "<b>4.\tWrite a Python program to swap two variables?</b>"
   ]
  },
  {
   "cell_type": "code",
   "execution_count": 4,
   "id": "cbc7170f",
   "metadata": {},
   "outputs": [
    {
     "name": "stdout",
     "output_type": "stream",
     "text": [
      "Enter value of a: 23\n",
      "Enter value of b: 46\n",
      "After Swapping\n",
      "Value of a: 46\n",
      "value of b: 23\n"
     ]
    }
   ],
   "source": [
    "a = input(\"Enter value of a: \")\n",
    "b = input(\"Enter value of b: \")\n",
    "c=a\n",
    "a=b\n",
    "b=c\n",
    "print(\"After Swapping\")\n",
    "print(\"Value of a: \"+a)\n",
    "print(\"value of b: \"+b)"
   ]
  },
  {
   "cell_type": "markdown",
   "id": "fe390cf4",
   "metadata": {},
   "source": [
    "<b>5.\tWrite a Python program to generate a random number?</b>"
   ]
  },
  {
   "cell_type": "code",
   "execution_count": 5,
   "id": "360d7aea",
   "metadata": {},
   "outputs": [
    {
     "name": "stdout",
     "output_type": "stream",
     "text": [
      "0.44648857236638806\n"
     ]
    }
   ],
   "source": [
    "import random  \n",
    "n = random.random()  \n",
    "print(n)  "
   ]
  }
 ],
 "metadata": {
  "kernelspec": {
   "display_name": "Python 3 (ipykernel)",
   "language": "python",
   "name": "python3"
  },
  "language_info": {
   "codemirror_mode": {
    "name": "ipython",
    "version": 3
   },
   "file_extension": ".py",
   "mimetype": "text/x-python",
   "name": "python",
   "nbconvert_exporter": "python",
   "pygments_lexer": "ipython3",
   "version": "3.9.7"
  }
 },
 "nbformat": 4,
 "nbformat_minor": 5
}
