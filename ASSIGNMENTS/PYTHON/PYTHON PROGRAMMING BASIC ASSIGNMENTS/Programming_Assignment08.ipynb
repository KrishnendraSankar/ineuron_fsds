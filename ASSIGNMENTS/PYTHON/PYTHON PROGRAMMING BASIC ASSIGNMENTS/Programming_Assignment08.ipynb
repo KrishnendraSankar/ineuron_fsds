{
 "cells": [
  {
   "cell_type": "markdown",
   "id": "49501e20",
   "metadata": {},
   "source": [
    "<b>1.\tWrite a Python Program to Add Two Matrices?</b>"
   ]
  },
  {
   "cell_type": "code",
   "execution_count": 1,
   "id": "677a798b",
   "metadata": {},
   "outputs": [
    {
     "name": "stdout",
     "output_type": "stream",
     "text": [
      "Enter number of columns: 2\n",
      "Enter number of Rows: 3\n",
      "Enter Values of Matrix 1\n",
      "Enter Values of Row 0\n",
      "1\n",
      "2\n",
      "Enter Values of Row 1\n",
      "3\n",
      "4\n",
      "Enter Values of Row 2\n",
      "5\n",
      "1\n",
      "Enter Values of Matrix 2\n",
      "Enter Values of Row 0\n",
      "3\n",
      "2\n",
      "Enter Values of Row 1\n",
      "6\n",
      "7\n",
      "Enter Values of Row 2\n",
      "2\n",
      "8\n",
      "Sum of 2 Matrices: \n",
      "4 4 \n",
      "9 11 \n",
      "7 9 \n"
     ]
    }
   ],
   "source": [
    "try:\n",
    "  c = int(input(\"Enter number of columns: \"))\n",
    "  r = int(input(\"Enter number of Rows: \"))\n",
    "except ValueError:\n",
    "  print(\"Enter Integer number as input\")\n",
    "else:\n",
    "  matrix1 = []\n",
    "  matrix2 = []\n",
    "  print(\"Enter Values of Matrix 1\")\n",
    "  for i in range(0,r):\n",
    "    print(\"Enter Values of Row {}\".format(i))\n",
    "    a=[]\n",
    "    for j in range(0,c):\n",
    "      x=int(input())\n",
    "      a.append(x)\n",
    "    matrix1.append(a)\n",
    "  matrix2 = []\n",
    "  print(\"Enter Values of Matrix 2\")\n",
    "  for i in range(0,r):\n",
    "    print(\"Enter Values of Row {}\".format(i))\n",
    "    a=[]\n",
    "    for j in range(0,c):\n",
    "      try:\n",
    "        x=int(input())\n",
    "      except ValueError:\n",
    "        print(\"Enter number\")\n",
    "      else:\n",
    "        a.append(x)\n",
    "    matrix2.append(a)\n",
    "  print(\"Sum of 2 Matrices: \")\n",
    "  result = [[matrix1[i][j] + matrix2[i][j]  for j in range(len(matrix1[0]))] for i in range(len(matrix1))]\n",
    "\n",
    "  for i in range(r):\n",
    "    for j in range(c):\n",
    "      print(result[i][j], end=\" \")\n",
    "    print()"
   ]
  },
  {
   "cell_type": "markdown",
   "id": "df1bef6b",
   "metadata": {},
   "source": [
    "<b>2.\tWrite a Python Program to Multiply Two Matrices?</b>"
   ]
  },
  {
   "cell_type": "code",
   "execution_count": 3,
   "id": "c22432cc",
   "metadata": {},
   "outputs": [
    {
     "name": "stdout",
     "output_type": "stream",
     "text": [
      "Enter number of columns: 3\n",
      "Enter number of Rows: 3\n",
      "Enter Values of Matrix 1\n",
      "Enter Values of Row 0\n",
      "1\n",
      "2\n",
      "3\n",
      "Enter Values of Row 1\n",
      "2\n",
      "3\n",
      "4\n",
      "Enter Values of Row 2\n",
      "3\n",
      "4\n",
      "5\n",
      "Enter Values of Matrix 2\n",
      "Enter Values of Row 0\n",
      "4\n",
      "5\n",
      "6\n",
      "Enter Values of Row 1\n",
      "5\n",
      "6\n",
      "7\n",
      "Enter Values of Row 2\n",
      "6\n",
      "7\n",
      "8\n",
      "Multiplication of 2 Matrices: \n",
      "32 38 44 \n",
      "47 56 65 \n",
      "62 74 86 \n"
     ]
    }
   ],
   "source": [
    "MAX=100\n",
    "try:\n",
    "  c = int(input(\"Enter number of columns: \"))\n",
    "  r = int(input(\"Enter number of Rows: \"))\n",
    "except ValueError:\n",
    "  print(\"Enter Integer number as input\")\n",
    "else:\n",
    "  matrix1 = []\n",
    "  matrix2 = []\n",
    "  print(\"Enter Values of Matrix 1\")\n",
    "  for i in range(0,r):\n",
    "    print(\"Enter Values of Row {}\".format(i))\n",
    "    a=[]\n",
    "    for j in range(0,c):\n",
    "      try:\n",
    "        x=int(input())\n",
    "      except ValueError:\n",
    "        print(\"Enter number\")\n",
    "      else:\n",
    "        a.append(x)\n",
    "    matrix1.append(a)\n",
    "  matrix2 = []\n",
    "  print(\"Enter Values of Matrix 2\")\n",
    "  for i in range(0,r):\n",
    "    print(\"Enter Values of Row {}\".format(i))\n",
    "    a=[]\n",
    "    for j in range(0,c):\n",
    "      try:\n",
    "        x=int(input())\n",
    "      except ValueError:\n",
    "        print(\"Enter number\")\n",
    "      else:\n",
    "        a.append(x)\n",
    "    matrix2.append(a)\n",
    "  print(\"Multiplication of 2 Matrices: \")\n",
    "  # Matrix to store the result\n",
    "  res = [[0 for i in range(MAX)]\n",
    "          for j in range(MAX)]\n",
    "  for i in range(len(matrix1)) :\n",
    "    for j in range(len(matrix2[0])) :\n",
    "      res[i][j] = 0\n",
    "      for k in range(len(matrix2)) :\n",
    "        res[i][j] += matrix1[i][k] * matrix2[k][j];\n",
    "  # Print the result\n",
    "  for i in range(r):\n",
    "    for j in range(c):\n",
    "      print(res[i][j], end=\" \")\n",
    "    print()"
   ]
  },
  {
   "cell_type": "markdown",
   "id": "3cd3a8bd",
   "metadata": {},
   "source": [
    "<b>3. Write a Python Program to Transpose a Matrix?</b>"
   ]
  },
  {
   "cell_type": "code",
   "execution_count": 4,
   "id": "b6408791",
   "metadata": {},
   "outputs": [
    {
     "name": "stdout",
     "output_type": "stream",
     "text": [
      "Enter number of columns: 3\n",
      "Enter number of Rows: 3\n",
      "Enter Values of Matrix 1\n",
      "Enter Values of Row 0\n",
      "1\n",
      "2\n",
      "3\n",
      "Enter Values of Row 1\n",
      "4\n",
      "5\n",
      "6\n",
      "Enter Values of Row 2\n",
      "1\n",
      "2\n",
      "6\n",
      "Transpose of Matrix: \n",
      "1 4 1 \n",
      "2 5 2 \n",
      "3 6 6 \n"
     ]
    }
   ],
   "source": [
    "try:\n",
    "  c = int(input(\"Enter number of columns: \"))\n",
    "  r = int(input(\"Enter number of Rows: \"))\n",
    "except ValueError:\n",
    "  print(\"Enter Integer number as input\")\n",
    "else:\n",
    "  matrix1 = []\n",
    "  print(\"Enter Values of Matrix 1\")\n",
    "  for i in range(0,r):\n",
    "    print(\"Enter Values of Row {}\".format(i))\n",
    "    a=[]\n",
    "    for j in range(0,c):\n",
    "      try:\n",
    "        x=int(input())\n",
    "      except ValueError:\n",
    "        print(\"Enter number\")\n",
    "      else:\n",
    "        a.append(x)\n",
    "    matrix1.append(a)\n",
    "  print(\"Transpose of Matrix: \")\n",
    "\n",
    "  # Matrix to store the result\n",
    "  trans_mat = [[0 for i in range(r)]\n",
    "          for j in range(c)]\n",
    "  for i in range(r):\n",
    "    for j in range(c):\n",
    "      trans_mat[j][i] = matrix1[i][j]\n",
    "  #print result matrix\n",
    "  for i in range(r):\n",
    "    for j in range(c):\n",
    "      print(trans_mat[i][j], end=\" \")\n",
    "    print()"
   ]
  },
  {
   "cell_type": "markdown",
   "id": "b27f0871",
   "metadata": {},
   "source": [
    "<b>4.\tWrite a Python Program to Sort Words in Alphabetic Order?</b>"
   ]
  },
  {
   "cell_type": "code",
   "execution_count": 5,
   "id": "af5a2d12",
   "metadata": {},
   "outputs": [
    {
     "name": "stdout",
     "output_type": "stream",
     "text": [
      "Enter a Sentence: Hello This is Krishnendra\n",
      "The sorted words are:\n",
      "hello\n",
      "is\n",
      "krishnendra\n",
      "this\n"
     ]
    }
   ],
   "source": [
    "my_str = input(\"Enter a Sentence: \")\n",
    "words = [word.lower() for word in my_str.split()]\n",
    "words.sort()\n",
    "print(\"The sorted words are:\")\n",
    "for w in words:\n",
    "  print(w)"
   ]
  },
  {
   "cell_type": "markdown",
   "id": "34e3ac70",
   "metadata": {},
   "source": [
    "<b>5.\tWrite a Python Program to Remove Punctuation From a String?</b>"
   ]
  },
  {
   "cell_type": "code",
   "execution_count": 6,
   "id": "09cbfc34",
   "metadata": {},
   "outputs": [
    {
     "name": "stdout",
     "output_type": "stream",
     "text": [
      "Enter a Sentence: %^66 &* KPOFR.,  jhgjh /./.'.' 876786\n",
      "66  KPOFR  jhgjh  876786\n"
     ]
    }
   ],
   "source": [
    "import re\n",
    "my_str = input(\"Enter a Sentence: \")\n",
    "print(re.sub('[^A-Za-z0-9 ]+', '', my_str))\n",
    "#print(my_str)"
   ]
  },
  {
   "cell_type": "code",
   "execution_count": null,
   "id": "2e60cef4",
   "metadata": {},
   "outputs": [],
   "source": []
  }
 ],
 "metadata": {
  "kernelspec": {
   "display_name": "Python 3 (ipykernel)",
   "language": "python",
   "name": "python3"
  },
  "language_info": {
   "codemirror_mode": {
    "name": "ipython",
    "version": 3
   },
   "file_extension": ".py",
   "mimetype": "text/x-python",
   "name": "python",
   "nbconvert_exporter": "python",
   "pygments_lexer": "ipython3",
   "version": "3.9.7"
  }
 },
 "nbformat": 4,
 "nbformat_minor": 5
}
