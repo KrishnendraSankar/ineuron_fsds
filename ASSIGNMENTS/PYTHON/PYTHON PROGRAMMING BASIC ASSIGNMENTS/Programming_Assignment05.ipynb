{
 "cells": [
  {
   "cell_type": "markdown",
   "id": "5dcc182a",
   "metadata": {},
   "source": [
    "<b>1. Write a Python Program to Find LCM?</b>"
   ]
  },
  {
   "cell_type": "code",
   "execution_count": 1,
   "id": "15849400",
   "metadata": {},
   "outputs": [
    {
     "name": "stdout",
     "output_type": "stream",
     "text": [
      "180\n"
     ]
    }
   ],
   "source": [
    "def cal_lcm(n1, n2):\n",
    "  if(n1>n2):\n",
    "    num = n1\n",
    "    den = n2\n",
    "  else:\n",
    "    num = n2\n",
    "    den = n1\n",
    "  rem = num%den\n",
    "  while(rem!=0):\n",
    "    num=den\n",
    "    den=rem\n",
    "    rem = num%den\n",
    "  gcd = den\n",
    "  lcm = int(int(n1 * n2)/int(gcd))\n",
    "  return lcm\n",
    "\n",
    "numbers=[3,9,12,15,18]\n",
    "n1 = numbers[0]\n",
    "n2 = numbers[1]\n",
    "lcm = cal_lcm(n1,n2)\n",
    "for i in range(2,len(numbers)):\n",
    "  lcm = cal_lcm(lcm, numbers[i])\n",
    "\n",
    "print(lcm)"
   ]
  },
  {
   "cell_type": "markdown",
   "id": "65f4b10b",
   "metadata": {},
   "source": [
    "<b>2. Write a Python Program to Find HCF? </b>"
   ]
  },
  {
   "cell_type": "code",
   "execution_count": 5,
   "id": "fd521cac",
   "metadata": {},
   "outputs": [
    {
     "name": "stdout",
     "output_type": "stream",
     "text": [
      "6\n"
     ]
    }
   ],
   "source": [
    "def cal_hfc(n1, n2):\n",
    "  if(n1>n2):\n",
    "    num = n1\n",
    "    den = n2\n",
    "  else:\n",
    "    num = n2\n",
    "    den = n1\n",
    "  rem = num%den\n",
    "  while(rem!=0):\n",
    "    num=den\n",
    "    den=rem\n",
    "    rem = num%den\n",
    "  gcd = den\n",
    "  return gcd\n",
    "\n",
    "numbers=[30,90,72,60,48]\n",
    "n1 = numbers[0]\n",
    "n2 = numbers[1]\n",
    "hcf = cal_hfc(n1,n2)\n",
    "for i in range(2,len(numbers)):\n",
    "  hcf = cal_hfc(hcf, numbers[i])\n",
    "\n",
    "print(hcf)"
   ]
  },
  {
   "cell_type": "markdown",
   "id": "14acedc3",
   "metadata": {},
   "source": [
    "<b>3. Write a Python Program to Convert Decimal to Binary, Octal and Hexadecimal?</b>"
   ]
  },
  {
   "cell_type": "code",
   "execution_count": 6,
   "id": "dd473e6b",
   "metadata": {},
   "outputs": [
    {
     "name": "stdout",
     "output_type": "stream",
     "text": [
      "1010\r\n",
      "34\r\n",
      "6E"
     ]
    }
   ],
   "source": [
    "def DecimalToBinary(num):\n",
    "  if num >= 2:\n",
    "    DecimalToBinary(num // 2)\n",
    "  print(num % 2, end='')\n",
    "\n",
    "def DecimalToOctal(num):\n",
    "  if num>=8:\n",
    "    DecimalToOctal(num//8)\n",
    "  print(num%8, end='')\n",
    "\n",
    "def DecimalToHex(num):\n",
    "  if num>=16:\n",
    "    DecimalToHex(num//16)\n",
    "  if(num%16==10):\n",
    "    print('A', end='')\n",
    "  elif(num%16==11):\n",
    "    print('B', end='')\n",
    "  elif(num%16==12):\n",
    "    print('C', end='')\n",
    "  elif(num%16==13):\n",
    "    print('D', end='')\n",
    "  elif(num%16==14):\n",
    "    print('E', end='')\n",
    "  elif(num%16==15):\n",
    "    print('F', end='')\n",
    "  else:\n",
    "    print(num%8, end='')\n",
    "  \n",
    "\n",
    "DecimalToBinary(10)\n",
    "print('\\r')\n",
    "DecimalToOctal(28)\n",
    "print('\\r')\n",
    "DecimalToHex(110)"
   ]
  },
  {
   "cell_type": "markdown",
   "id": "6f8c5a74",
   "metadata": {},
   "source": [
    "<b>4. Write a Python Program To Find ASCII value of a character?</b>"
   ]
  },
  {
   "cell_type": "code",
   "execution_count": 7,
   "id": "eab634a1",
   "metadata": {},
   "outputs": [
    {
     "name": "stdout",
     "output_type": "stream",
     "text": [
      "Enter a Value: R\n",
      "ASCII value of R is 82\n"
     ]
    }
   ],
   "source": [
    "val = input(\"Enter a Value: \")\n",
    "if(len(val)!=1):\n",
    "  print(\"ERROR: THE LENGTH OF THE VARIABLE MUST BE 1 CHARACTER\")\n",
    "else:\n",
    "  print(\"ASCII value of {} is {}\".format(val, ord(val)))"
   ]
  },
  {
   "cell_type": "markdown",
   "id": "ee04b95f",
   "metadata": {},
   "source": [
    "<b>5. Write a Python Program to Make a Simple Calculator with 4 basic mathematical operations?</b>"
   ]
  },
  {
   "cell_type": "code",
   "execution_count": 8,
   "id": "d535b0f9",
   "metadata": {},
   "outputs": [
    {
     "name": "stdout",
     "output_type": "stream",
     "text": [
      "Enter Your Choice (1 - Addition, 2 - Subtraction, 3 - Multiplication, 4 - Division)1\n",
      "Enter First Digit: 45\n",
      "Enter Second Digit: 35\n",
      "You have choosen Addition\n",
      "Result = 80.0\n"
     ]
    }
   ],
   "source": [
    "def add(a,b):\n",
    "  c = a+b\n",
    "  return c\n",
    "def sub(a,b):\n",
    "  c = a-b\n",
    "  return c\n",
    "def mul(a,b):\n",
    "  c=a*b\n",
    "  return c\n",
    "def div(a,b):\n",
    "  c=a/b\n",
    "  return c\n",
    "\n",
    "try:\n",
    "  opr_list = {1:'Addition', 2:'Subtraction', 3:'Multiplication', 4:'Division'}\n",
    "  opr = int(input(\"Enter Your Choice (1 - Addition, 2 - Subtraction, 3 - Multiplication, 4 - Division)\"))\n",
    "  num1 = float(input(\"Enter First Digit: \"))\n",
    "  num2 = float(input(\"Enter Second Digit: \"))\n",
    "  print(\"You have choosen {}\".format(opr_list[opr]))\n",
    "except ValueError:\n",
    "  print(\"Please Enter a valid numbers\")  \n",
    "else:\n",
    "  if(opr==1):\n",
    "    res = add(num1,num2)\n",
    "    print(\"Result = {}\".format(res))\n",
    "  elif(opr==2):\n",
    "    res = sub(num1,num2)\n",
    "    print(\"Result = {}\".format(res))\n",
    "  elif(opr==3):\n",
    "    res = mul(num1,num2)\n",
    "    print(\"Result = {}\".format(res))\n",
    "  elif(opr==4):\n",
    "    if(num1!=0):\n",
    "      res = div(num1,num2)\n",
    "      print(\"Result = {}\".format(res))\n",
    "    else:\n",
    "      print(\"Numerator of a division Can not be zero\")\n",
    "  else:\n",
    "    print(\"Invalid option\")"
   ]
  },
  {
   "cell_type": "code",
   "execution_count": null,
   "id": "527b653e",
   "metadata": {},
   "outputs": [],
   "source": []
  }
 ],
 "metadata": {
  "kernelspec": {
   "display_name": "Python 3 (ipykernel)",
   "language": "python",
   "name": "python3"
  },
  "language_info": {
   "codemirror_mode": {
    "name": "ipython",
    "version": 3
   },
   "file_extension": ".py",
   "mimetype": "text/x-python",
   "name": "python",
   "nbconvert_exporter": "python",
   "pygments_lexer": "ipython3",
   "version": "3.9.7"
  }
 },
 "nbformat": 4,
 "nbformat_minor": 5
}
