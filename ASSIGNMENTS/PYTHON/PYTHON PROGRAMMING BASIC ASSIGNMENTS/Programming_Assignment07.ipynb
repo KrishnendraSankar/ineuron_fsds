{
 "cells": [
  {
   "cell_type": "markdown",
   "id": "e83ac2ad",
   "metadata": {},
   "source": [
    "<b>1. Write a Python Program to find sum of array?</b>"
   ]
  },
  {
   "cell_type": "code",
   "execution_count": 1,
   "id": "04a5d3e3",
   "metadata": {},
   "outputs": [
    {
     "name": "stdout",
     "output_type": "stream",
     "text": [
      "Sum of Array: 6\n"
     ]
    }
   ],
   "source": [
    "import array as arr\n",
    "a = arr.array('i', [1,2,3])\n",
    "total = 0\n",
    "for i in range(0,len(a)):\n",
    "  total = total + a[i]\n",
    "print(\"Sum of Array: {}\".format(total))"
   ]
  },
  {
   "cell_type": "markdown",
   "id": "81dfaab6",
   "metadata": {},
   "source": [
    "<b>2. Write a Python Program to find largest element in an array?</b>"
   ]
  },
  {
   "cell_type": "code",
   "execution_count": 2,
   "id": "b8a2869d",
   "metadata": {},
   "outputs": [
    {
     "name": "stdout",
     "output_type": "stream",
     "text": [
      "Largest Number: 8\n"
     ]
    }
   ],
   "source": [
    "import array as arr\n",
    "a = arr.array('i', [5,8,1,4,3])\n",
    "max=0\n",
    "for i in range(0,len(a)):\n",
    "  if(max<a[i]):\n",
    "    max = a[i]\n",
    "print(\"Largest Number: {}\".format(max))"
   ]
  },
  {
   "cell_type": "markdown",
   "id": "14ea0cd7",
   "metadata": {},
   "source": [
    "<b>3. Write a Python Program for array rotation?</b>"
   ]
  },
  {
   "cell_type": "code",
   "execution_count": 3,
   "id": "e4f48652",
   "metadata": {},
   "outputs": [
    {
     "name": "stdout",
     "output_type": "stream",
     "text": [
      "3 4 1 8 5 "
     ]
    }
   ],
   "source": [
    "import array as arr\n",
    "a = arr.array('i', [5,8,1,4,3])\n",
    "rev_a = a[::-1]\n",
    "for i in rev_a:\n",
    "  print(i, end=' ')"
   ]
  },
  {
   "cell_type": "markdown",
   "id": "9315a334",
   "metadata": {},
   "source": [
    "<b>4. Write a Python Program to Split the array and add the first part to the end?</b>"
   ]
  },
  {
   "cell_type": "code",
   "execution_count": 5,
   "id": "15b78664",
   "metadata": {},
   "outputs": [
    {
     "data": {
      "text/plain": [
       "array('i', [1, 3, 9, 5, 8])"
      ]
     },
     "execution_count": 5,
     "metadata": {},
     "output_type": "execute_result"
    }
   ],
   "source": [
    "import array as arr\n",
    "a = arr.array('i', [5,8,1,3,9])\n",
    "a1 = a[0:len(a)//2]\n",
    "a2 = a[len(a)//2:]\n",
    "new_a = a2+a1\n",
    "new_a"
   ]
  },
  {
   "cell_type": "markdown",
   "id": "5f26f601",
   "metadata": {},
   "source": [
    "<b>5. Write a Python Program to check if given array is Monotonic?</b>"
   ]
  },
  {
   "cell_type": "code",
   "execution_count": 6,
   "id": "dfa5d225",
   "metadata": {},
   "outputs": [
    {
     "name": "stdout",
     "output_type": "stream",
     "text": [
      "False\n"
     ]
    }
   ],
   "source": [
    "def isMonotonic(A):\n",
    "  \n",
    "    return (all(A[i] <= A[i + 1] for i in range(len(A) - 1)) or\n",
    "            all(A[i] >= A[i + 1] for i in range(len(A) - 1)))\n",
    "  \n",
    "# Driver program\n",
    "A = [6, 5, 8, 4]\n",
    "  \n",
    "# Print required result\n",
    "print(isMonotonic(A))"
   ]
  },
  {
   "cell_type": "code",
   "execution_count": null,
   "id": "b5dc12e8",
   "metadata": {},
   "outputs": [],
   "source": []
  }
 ],
 "metadata": {
  "kernelspec": {
   "display_name": "Python 3 (ipykernel)",
   "language": "python",
   "name": "python3"
  },
  "language_info": {
   "codemirror_mode": {
    "name": "ipython",
    "version": 3
   },
   "file_extension": ".py",
   "mimetype": "text/x-python",
   "name": "python",
   "nbconvert_exporter": "python",
   "pygments_lexer": "ipython3",
   "version": "3.9.7"
  }
 },
 "nbformat": 4,
 "nbformat_minor": 5
}
