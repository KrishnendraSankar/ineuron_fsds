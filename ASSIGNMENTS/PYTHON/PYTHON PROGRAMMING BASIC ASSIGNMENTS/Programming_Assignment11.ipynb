{
 "cells": [
  {
   "cell_type": "markdown",
   "id": "0add0a75",
   "metadata": {},
   "source": [
    "<b>1. Write a Python program to find words which are greater than given length k?</b>"
   ]
  },
  {
   "cell_type": "code",
   "execution_count": 1,
   "id": "36627576",
   "metadata": {},
   "outputs": [
    {
     "name": "stdout",
     "output_type": "stream",
     "text": [
      "Enter Sentence: hello my name is krishnendra\n",
      "Enter Length K: 3\n",
      "hello\n",
      "name\n",
      "krishnendra\n"
     ]
    }
   ],
   "source": [
    "try:\n",
    "  sentence = input(\"Enter Sentence: \")\n",
    "  k = int(input(\"Enter Length K: \"))\n",
    "except ValueError:\n",
    "  print(\"Enter Sentence\")\n",
    "else:\n",
    "  for word in sentence.split(' '):\n",
    "    if(len(word)>k):\n",
    "      print(word)\n"
   ]
  },
  {
   "cell_type": "markdown",
   "id": "04870f32",
   "metadata": {},
   "source": [
    "<b>2. Write a Python program for removing i-th character from a string?</b>"
   ]
  },
  {
   "cell_type": "code",
   "execution_count": 2,
   "id": "2a1f7ada",
   "metadata": {},
   "outputs": [
    {
     "name": "stdout",
     "output_type": "stream",
     "text": [
      "Enter String: Krishnendra\n",
      "Enter i: 5\n",
      "Krisnendra\n"
     ]
    }
   ],
   "source": [
    "try:\n",
    "  my_str = input(\"Enter String: \")\n",
    "  i = int(input(\"Enter i: \"))\n",
    "except ValueError:\n",
    "  print(\"Enter Sentence\")\n",
    "else:\n",
    "  if(i<len(my_str)):\n",
    "    print(my_str[:i-1] + my_str[i:])"
   ]
  },
  {
   "cell_type": "markdown",
   "id": "4916f6d5",
   "metadata": {},
   "source": [
    "<b>3. Write a Python program to split and join a string?</b>"
   ]
  },
  {
   "cell_type": "code",
   "execution_count": 3,
   "id": "6d0959e8",
   "metadata": {},
   "outputs": [
    {
     "name": "stdout",
     "output_type": "stream",
     "text": [
      "Enter String: This is Krish\n",
      "This-is-Krish\n"
     ]
    }
   ],
   "source": [
    "try:\n",
    "  my_str = input(\"Enter String: \")\n",
    "except ValueError:\n",
    "  print(\"Enter Sentence\")\n",
    "else:\n",
    "  splited_str = my_str.split(\" \")\n",
    "  joined_str = \"-\".join(splited_str)\n",
    "  print(joined_str)"
   ]
  },
  {
   "cell_type": "markdown",
   "id": "6dddde44",
   "metadata": {},
   "source": [
    "<b>4. Write a Python to check if a given string is binary string or not?</b>"
   ]
  },
  {
   "cell_type": "code",
   "execution_count": 4,
   "id": "15c4bef8",
   "metadata": {},
   "outputs": [
    {
     "name": "stdout",
     "output_type": "stream",
     "text": [
      "Enter String: 1000111010\n",
      "The String is Binary String.\n"
     ]
    }
   ],
   "source": [
    "try:\n",
    "  my_str = input(\"Enter String: \")\n",
    "  binary_num = ['0','1']\n",
    "except ValueError:\n",
    "  print(\"Enter Sentence\")\n",
    "else:\n",
    "  for i in my_str:\n",
    "    if i not in binary_num:\n",
    "      print(\"This is not Binary String\")\n",
    "      break\n",
    "  else:\n",
    "    print(\"The String is Binary String.\")"
   ]
  },
  {
   "cell_type": "markdown",
   "id": "2a0e216b",
   "metadata": {},
   "source": [
    "<b>5. Write a Python program to find uncommon words from two Strings?</b>"
   ]
  },
  {
   "cell_type": "code",
   "execution_count": 5,
   "id": "e4d5c0ca",
   "metadata": {},
   "outputs": [
    {
     "name": "stdout",
     "output_type": "stream",
     "text": [
      "Enter String 1: this is krish\n",
      "Enter String 2: this is ksg\n",
      "['krish', 'ksg']\n"
     ]
    }
   ],
   "source": [
    "try:\n",
    "  my_str1 = list(map(str, input(\"Enter String 1: \").strip().split()))\n",
    "  my_str2 = list(map(str, input(\"Enter String 2: \").strip().split()))\n",
    "except ValueError:\n",
    "  print(\"Enter Sentences\")\n",
    "else:\n",
    "  word_list = []\n",
    "  for i in my_str1:\n",
    "    if(i not in my_str2):\n",
    "      word_list.append(i)\n",
    "  for i in my_str2:\n",
    "    if(i not in my_str1):\n",
    "      word_list.append(i)\n",
    "  print(word_list)"
   ]
  },
  {
   "cell_type": "markdown",
   "id": "c069be6a",
   "metadata": {},
   "source": [
    "<b>6. Write a Python to find all duplicate characters in string?</b>"
   ]
  },
  {
   "cell_type": "code",
   "execution_count": 6,
   "id": "fade1f39",
   "metadata": {},
   "outputs": [
    {
     "name": "stdout",
     "output_type": "stream",
     "text": [
      "Enter String 1: krishnendra\n",
      "['r', 'n']\n"
     ]
    }
   ],
   "source": [
    "try:\n",
    "  my_str1 = input(\"Enter String 1: \")\n",
    "except ValueError:\n",
    "  print(\"Enter Sentences\")\n",
    "else:\n",
    "  duplicate=[]\n",
    "  for i in my_str1:\n",
    "    if(my_str1.count(i)>1):\n",
    "      if(i not in duplicate):\n",
    "        duplicate.append(i)\n",
    "  print(duplicate)"
   ]
  },
  {
   "cell_type": "markdown",
   "id": "d6143519",
   "metadata": {},
   "source": [
    "<b>7. Write a Python Program to check if a string contains any special character?</b>"
   ]
  },
  {
   "cell_type": "code",
   "execution_count": 7,
   "id": "a200be28",
   "metadata": {},
   "outputs": [
    {
     "name": "stdout",
     "output_type": "stream",
     "text": [
      "Enter String: tgjnjnj****\n",
      "The string contains special charecter\n"
     ]
    }
   ],
   "source": [
    "try:\n",
    "  mystr = input(\"Enter String: \")\n",
    "except ValueError:\n",
    "  print(\"Enter string\")\n",
    "else:\n",
    "  count=0\n",
    "  for i in mystr:\n",
    "    if not (97<=ord(i)<=122 or 65<=ord(i)<=90 or 48<=ord(i)<=57):\n",
    "      count = 1\n",
    "      break\n",
    "  \n",
    "  if(count!=0):\n",
    "    print(\"The string contains special charecter\")\n",
    "  else:\n",
    "    print(\"The string does not contain special charecter\")"
   ]
  },
  {
   "cell_type": "code",
   "execution_count": null,
   "id": "4ae2453d",
   "metadata": {},
   "outputs": [],
   "source": []
  }
 ],
 "metadata": {
  "kernelspec": {
   "display_name": "Python 3 (ipykernel)",
   "language": "python",
   "name": "python3"
  },
  "language_info": {
   "codemirror_mode": {
    "name": "ipython",
    "version": 3
   },
   "file_extension": ".py",
   "mimetype": "text/x-python",
   "name": "python",
   "nbconvert_exporter": "python",
   "pygments_lexer": "ipython3",
   "version": "3.9.7"
  }
 },
 "nbformat": 4,
 "nbformat_minor": 5
}
