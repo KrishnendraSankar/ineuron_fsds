{
 "cells": [
  {
   "cell_type": "markdown",
   "id": "cde0d06f",
   "metadata": {},
   "source": [
    "<b>1. Write a Python Program to Display Fibonacci Sequence Using Recursion? </b>"
   ]
  },
  {
   "cell_type": "code",
   "execution_count": 1,
   "id": "cd8019e8",
   "metadata": {},
   "outputs": [
    {
     "name": "stdout",
     "output_type": "stream",
     "text": [
      "Enter N Terms value: 8\n",
      "0\n",
      "1\n",
      "1\n",
      "2\n",
      "3\n",
      "5\n",
      "8\n",
      "13\n"
     ]
    }
   ],
   "source": [
    "def fibonacci(n):\n",
    "  if(n<=1):\n",
    "    return(n)\n",
    "  else:\n",
    "    return(fibonacci(n-1) + fibonacci(n-2))\n",
    "\n",
    "try:\n",
    "  n = int(input(\"Enter N Terms value: \"))\n",
    "except ValueError:\n",
    "  print(\"Please Enter a valid integer number\") \n",
    "else:\n",
    "  if(n<=0):\n",
    "    print(\"Enter a positive value\")\n",
    "  else:\n",
    "    for i in range(n):\n",
    "      print(fibonacci(i))"
   ]
  },
  {
   "cell_type": "markdown",
   "id": "4d94f7ab",
   "metadata": {},
   "source": [
    "<b>2. Write a Python Program to Find Factorial of Number Using Recursion? </b>"
   ]
  },
  {
   "cell_type": "code",
   "execution_count": 2,
   "id": "7c88197c",
   "metadata": {},
   "outputs": [
    {
     "name": "stdout",
     "output_type": "stream",
     "text": [
      "Enter number: 6\n",
      "The factorial of 6 is 720\n"
     ]
    }
   ],
   "source": [
    "def recursion_fact(n):\n",
    "   if n == 1:\n",
    "       return n\n",
    "   else:\n",
    "       return n*recursion_fact(n-1)\n",
    "\n",
    "try:\n",
    "  num = int(input(\"Enter number: \"))\n",
    "except ValueError:\n",
    "  print(\"Please Enter a valid integer number\") \n",
    "else:\n",
    "  if num < 0:\n",
    "    print(\"Sorry, factorial does not exist for negative numbers\")\n",
    "  elif num == 0:\n",
    "    print(\"The factorial of 0 is 1\")\n",
    "  else:\n",
    "    print(\"The factorial of\", num, \"is\", recursion_fact(num))"
   ]
  },
  {
   "cell_type": "markdown",
   "id": "df912cba",
   "metadata": {},
   "source": [
    "<b>3. Write a Python Program to calculate your Body Mass Index? </b>"
   ]
  },
  {
   "cell_type": "code",
   "execution_count": 4,
   "id": "cee39012",
   "metadata": {},
   "outputs": [
    {
     "name": "stdout",
     "output_type": "stream",
     "text": [
      "Enter height (in CM): 188\n",
      "Enter Weight (in KG): 75\n",
      "21.22000905387053\n"
     ]
    }
   ],
   "source": [
    "def bmi_cal(h,w):\n",
    "  bmi = w/((h/100)**2)\n",
    "  return bmi\n",
    "\n",
    "try:\n",
    "  h = float(input(\"Enter height (in CM): \"))\n",
    "  w = float(input(\"Enter Weight (in KG): \"))\n",
    "except ValueError:\n",
    "  print(\"Please Enter digits as Height and Weight\")\n",
    "else:\n",
    "  print(bmi_cal(h,w))"
   ]
  },
  {
   "cell_type": "markdown",
   "id": "a6ec9731",
   "metadata": {},
   "source": [
    "<b>4. Write a Python Program to calculate the natural logarithm of any number?</b>"
   ]
  },
  {
   "cell_type": "code",
   "execution_count": 5,
   "id": "9a32f045",
   "metadata": {},
   "outputs": [
    {
     "name": "stdout",
     "output_type": "stream",
     "text": [
      "Enter Number: 5\n",
      "1.6094379124341003\n"
     ]
    }
   ],
   "source": [
    "import math\n",
    "try:\n",
    "  n = float(input(\"Enter Number: \"))\n",
    "except ValueError:\n",
    "  print(\"Please Enter Number\")\n",
    "else:\n",
    "  if(n!=0):\n",
    "    print(math.log(n))\n",
    "  else:\n",
    "    print(\"Enter value other than 0\")"
   ]
  },
  {
   "cell_type": "markdown",
   "id": "cb7cf7bc",
   "metadata": {},
   "source": [
    "<b>5. Write a Python Program for cube sum of first n natural numbers?</b>"
   ]
  },
  {
   "cell_type": "code",
   "execution_count": 6,
   "id": "3624805d",
   "metadata": {},
   "outputs": [
    {
     "name": "stdout",
     "output_type": "stream",
     "text": [
      "Enter a Number: 11\n",
      "Cube Sum of Natural Number: 4356\n"
     ]
    }
   ],
   "source": [
    "try:\n",
    "  num = int(input(\"Enter a Number: \"))\n",
    "except ValueError:\n",
    "  print(\"Please Enter a valid integer number\")  \n",
    "else:\n",
    "  if(num<0):\n",
    "    print(\"Please enter a positive number\")\n",
    "  count=0\n",
    "  for num in range(0,num+1):\n",
    "    count=count+num**3\n",
    "  print(\"Cube Sum of Natural Number: {}\".format(count))"
   ]
  },
  {
   "cell_type": "code",
   "execution_count": null,
   "id": "b01394ab",
   "metadata": {},
   "outputs": [],
   "source": []
  }
 ],
 "metadata": {
  "kernelspec": {
   "display_name": "Python 3 (ipykernel)",
   "language": "python",
   "name": "python3"
  },
  "language_info": {
   "codemirror_mode": {
    "name": "ipython",
    "version": 3
   },
   "file_extension": ".py",
   "mimetype": "text/x-python",
   "name": "python",
   "nbconvert_exporter": "python",
   "pygments_lexer": "ipython3",
   "version": "3.9.7"
  }
 },
 "nbformat": 4,
 "nbformat_minor": 5
}
