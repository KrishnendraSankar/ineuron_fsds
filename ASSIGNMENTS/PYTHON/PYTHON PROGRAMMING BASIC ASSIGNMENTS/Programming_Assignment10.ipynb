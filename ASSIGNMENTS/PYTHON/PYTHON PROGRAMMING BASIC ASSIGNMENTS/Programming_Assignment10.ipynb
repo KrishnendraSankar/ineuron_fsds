{
 "cells": [
  {
   "cell_type": "markdown",
   "id": "b7d55d63",
   "metadata": {},
   "source": [
    "<b>1.\tWrite a Python program to find sum of elements in list?</b>"
   ]
  },
  {
   "cell_type": "code",
   "execution_count": 2,
   "id": "a08e466c",
   "metadata": {},
   "outputs": [
    {
     "name": "stdout",
     "output_type": "stream",
     "text": [
      "Enter elements: 1 2 3 4 5\n",
      "Total = 15\n"
     ]
    }
   ],
   "source": [
    "my_list = list(map(int,input(\"Enter elements: \").strip().split()))\n",
    "total=0\n",
    "for i in my_list:\n",
    "  total = total+i\n",
    "print(\"Total = {}\".format(total))"
   ]
  },
  {
   "cell_type": "markdown",
   "id": "04c98cc9",
   "metadata": {},
   "source": [
    "<b>2.\tWrite a Python program to  Multiply all numbers in the list?</b>"
   ]
  },
  {
   "cell_type": "code",
   "execution_count": 3,
   "id": "d059abca",
   "metadata": {},
   "outputs": [
    {
     "name": "stdout",
     "output_type": "stream",
     "text": [
      "Enter elements: 1 2 3 4\n",
      "Multiplication Result = 24\n"
     ]
    }
   ],
   "source": [
    "my_list = list(map(int,input(\"Enter elements: \").strip().split()))\n",
    "mul=1\n",
    "for i in my_list:\n",
    "  mul = mul*i\n",
    "print(\"Multiplication Result = {}\".format(mul))"
   ]
  },
  {
   "cell_type": "markdown",
   "id": "8b2e9f74",
   "metadata": {},
   "source": [
    "<b>3.\tWrite a Python program to find smallest number in a list?</b>"
   ]
  },
  {
   "cell_type": "code",
   "execution_count": 4,
   "id": "f9b690c5",
   "metadata": {},
   "outputs": [
    {
     "name": "stdout",
     "output_type": "stream",
     "text": [
      "Enter elements with spaces: 12 45 73 9\n",
      "The smallest Number is: 9\n"
     ]
    }
   ],
   "source": [
    "my_list = list(map(int,input(\"Enter elements with spaces: \").strip().split()))\n",
    "print(\"The smallest Number is: {}\".format(min(my_list)))"
   ]
  },
  {
   "cell_type": "markdown",
   "id": "0523c781",
   "metadata": {},
   "source": [
    "<b>4.\tWrite a Python program to find largest number in a list?</b>"
   ]
  },
  {
   "cell_type": "code",
   "execution_count": 5,
   "id": "f2388ea9",
   "metadata": {},
   "outputs": [
    {
     "name": "stdout",
     "output_type": "stream",
     "text": [
      "Enter elements with spaces: 34 102 77 7 29\n",
      "The largest Number is: 102\n"
     ]
    }
   ],
   "source": [
    "my_list = list(map(int,input(\"Enter elements with spaces: \").strip().split()))\n",
    "print(\"The largest Number is: {}\".format(max(my_list)))"
   ]
  },
  {
   "cell_type": "markdown",
   "id": "61b0e4e1",
   "metadata": {},
   "source": [
    "<b>5.\tWrite a Python program to find second largest number in a list?</b>"
   ]
  },
  {
   "cell_type": "code",
   "execution_count": 6,
   "id": "52e3426d",
   "metadata": {},
   "outputs": [
    {
     "name": "stdout",
     "output_type": "stream",
     "text": [
      "Enter elements with spaces: 22 33 47 89 102 103\n",
      "The second largest Number is: 102\n"
     ]
    }
   ],
   "source": [
    "my_list = list(map(int,input(\"Enter elements with spaces: \").strip().split()))\n",
    "my_list.sort()\n",
    "print(\"The second largest Number is: {}\".format(my_list[-2]))"
   ]
  },
  {
   "cell_type": "markdown",
   "id": "495bcd27",
   "metadata": {},
   "source": [
    "<b>6.\tWrite a Python program to find N largest elements from a list?</b>"
   ]
  },
  {
   "cell_type": "code",
   "execution_count": 7,
   "id": "6df7ed7c",
   "metadata": {},
   "outputs": [
    {
     "name": "stdout",
     "output_type": "stream",
     "text": [
      "Enter elements with spaces: 65 34 98 102 56 98 71\n",
      "Enter n: 4\n",
      "The nth largest Number is: 71\n"
     ]
    }
   ],
   "source": [
    "my_list = list(map(int,input(\"Enter elements with spaces: \").strip().split()))\n",
    "n = int(input(\"Enter n: \"))\n",
    "if(n<len(my_list)):\n",
    "  my_list.sort()\n",
    "  print(\"The nth largest Number is: {}\".format(my_list[-n]))\n",
    "else:\n",
    "  print(\"Please enter a valid index number\")"
   ]
  },
  {
   "cell_type": "markdown",
   "id": "ad60711f",
   "metadata": {},
   "source": [
    "<b>7. Write a Python program to print even numbers in a list?</b>"
   ]
  },
  {
   "cell_type": "code",
   "execution_count": 8,
   "id": "f5b4292a",
   "metadata": {},
   "outputs": [
    {
     "name": "stdout",
     "output_type": "stream",
     "text": [
      "Enter Elements with spaces: 10 25 66 75 4 8 44\n",
      "List of Even Numbers: \n",
      "10\n",
      "66\n",
      "4\n",
      "8\n",
      "44\n"
     ]
    }
   ],
   "source": [
    "try:\n",
    "  my_list = list(map(int, input(\"Enter Elements with spaces: \").strip().split()))\n",
    "except ValueError:\n",
    "  print(\"Please Enter Integer Numbers\")\n",
    "else:\n",
    "  print(\"List of Even Numbers: \")\n",
    "  for i in my_list:\n",
    "    if(i%2==0):\n",
    "      print(i)\n",
    "  "
   ]
  },
  {
   "cell_type": "markdown",
   "id": "872e86a5",
   "metadata": {},
   "source": [
    "<b>8. Write a Python program to print odd numbers in a List?</b>"
   ]
  },
  {
   "cell_type": "code",
   "execution_count": 9,
   "id": "31a356a1",
   "metadata": {},
   "outputs": [
    {
     "name": "stdout",
     "output_type": "stream",
     "text": [
      "Enter Elements with spaces: 25 55 66 33 44 11 22 88\n",
      "List of Odd Numbers: \n",
      "25\n",
      "55\n",
      "33\n",
      "11\n"
     ]
    }
   ],
   "source": [
    "try:\n",
    "  my_list = list(map(int, input(\"Enter Elements with spaces: \").strip().split()))\n",
    "except ValueError:\n",
    "  print(\"Please Enter Integer Numbers\")\n",
    "else:\n",
    "  print(\"List of Odd Numbers: \")\n",
    "  for i in my_list:\n",
    "    if(i%2!=0):\n",
    "      print(i)"
   ]
  },
  {
   "cell_type": "markdown",
   "id": "d308d2a7",
   "metadata": {},
   "source": [
    "<b>9. Write a Python program to Remove empty List from List?</b>"
   ]
  },
  {
   "cell_type": "code",
   "execution_count": 10,
   "id": "6ac5eea7",
   "metadata": {},
   "outputs": [
    {
     "name": "stdout",
     "output_type": "stream",
     "text": [
      "[4, 5, 'xyz', [1, 3]]\n"
     ]
    }
   ],
   "source": [
    "mylist = [4, 5, 'xyz', [], [1, 3]]\n",
    "for i in mylist:\n",
    "  if(type(i)==list):\n",
    "    if(len(i)==0):\n",
    "      mylist.pop(mylist.index(i))\n",
    "print(mylist)"
   ]
  },
  {
   "cell_type": "markdown",
   "id": "81d57c62",
   "metadata": {},
   "source": [
    "<b>10. Write a Python program to Cloning or Copying a list?</b>"
   ]
  },
  {
   "cell_type": "code",
   "execution_count": 11,
   "id": "32192faf",
   "metadata": {},
   "outputs": [
    {
     "name": "stdout",
     "output_type": "stream",
     "text": [
      "Source List:\n",
      "[4, 5, 'xyz', [], [1, 3]]\n",
      "Copied List:\n",
      "[4, 5, 'xyz', [], [1, 3]]\n"
     ]
    }
   ],
   "source": [
    "sourcelist = [4, 5, 'xyz', [], [1, 3]]\n",
    "destlist = []\n",
    "for i in sourcelist:\n",
    "  destlist.append(i)\n",
    "print(\"Source List:\")\n",
    "print(sourcelist)\n",
    "print(\"Copied List:\")\n",
    "print(destlist)"
   ]
  },
  {
   "cell_type": "markdown",
   "id": "a4cfc3db",
   "metadata": {},
   "source": [
    "<b>11. Write a Python program to Count occurrences of an element in a list?</b>"
   ]
  },
  {
   "cell_type": "code",
   "execution_count": 13,
   "id": "f2b6c91c",
   "metadata": {},
   "outputs": [
    {
     "name": "stdout",
     "output_type": "stream",
     "text": [
      "Enter Elements with spaces: 1 5 6 8 2 4 6 1 8 8\n",
      "Enter the element to search:8\n",
      "Total Occurrences: 3\n"
     ]
    }
   ],
   "source": [
    "try:\n",
    "  mylist = list(map(int, input(\"Enter Elements with spaces: \").strip().split()))\n",
    "  var = int(input(\"Enter the element to search:\"))\n",
    "except ValueError:\n",
    "  print(\"Please Enter Integer Numbers\")\n",
    "else:\n",
    "  count=0\n",
    "  for i in mylist:\n",
    "    if(i == var):\n",
    "      count+=1\n",
    "  print(\"Total Occurrences: {}\".format(count))"
   ]
  },
  {
   "cell_type": "code",
   "execution_count": null,
   "id": "f344a003",
   "metadata": {},
   "outputs": [],
   "source": []
  }
 ],
 "metadata": {
  "kernelspec": {
   "display_name": "Python 3 (ipykernel)",
   "language": "python",
   "name": "python3"
  },
  "language_info": {
   "codemirror_mode": {
    "name": "ipython",
    "version": 3
   },
   "file_extension": ".py",
   "mimetype": "text/x-python",
   "name": "python",
   "nbconvert_exporter": "python",
   "pygments_lexer": "ipython3",
   "version": "3.9.7"
  }
 },
 "nbformat": 4,
 "nbformat_minor": 5
}
