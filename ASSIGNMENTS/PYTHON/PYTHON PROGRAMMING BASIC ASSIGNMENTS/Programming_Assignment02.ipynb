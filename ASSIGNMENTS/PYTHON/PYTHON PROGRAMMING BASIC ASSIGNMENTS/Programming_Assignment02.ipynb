{
 "cells": [
  {
   "cell_type": "markdown",
   "id": "d3a78b74",
   "metadata": {},
   "source": [
    "<b>1.\tWrite a Python program to convert kilometers to miles?</b>"
   ]
  },
  {
   "cell_type": "code",
   "execution_count": 1,
   "id": "7ad49214",
   "metadata": {},
   "outputs": [
    {
     "name": "stdout",
     "output_type": "stream",
     "text": [
      "Enter value in kilometers: 100\n",
      "100.00 kilometers = 62.14 miles\n"
     ]
    }
   ],
   "source": [
    "# Miles = kilometre * 0.62137  \n",
    "\n",
    "# Input KM from user\n",
    "kms = float(input(\"Enter value in kilometers: \"))\n",
    "\n",
    "# conversion factor\n",
    "convertion_factor = 0.62137\n",
    "\n",
    "# calculate Miles\n",
    "miles = kms * convertion_factor\n",
    "print('%0.2f kilometers = %0.2f miles' %(kms,miles))"
   ]
  },
  {
   "cell_type": "markdown",
   "id": "319ab9ab",
   "metadata": {},
   "source": [
    "<b>2. Write a Python program to convert Celsius to Fahrenheit?</b>"
   ]
  },
  {
   "cell_type": "code",
   "execution_count": 2,
   "id": "efe310a0",
   "metadata": {},
   "outputs": [
    {
     "name": "stdout",
     "output_type": "stream",
     "text": [
      "Enter value in Censius: 37.5\n",
      "37.5 degree Celsius = 99.5 degree Fahrenheit\n"
     ]
    }
   ],
   "source": [
    "# Celsius/5 = (Farenheit-32)/9\n",
    "#Taking Celsius input from user\n",
    "c = float(input(\"Enter value in Censius: \"))\n",
    "\n",
    "#Calculate Farenheit\n",
    "f = (c * 1.8) + 32\n",
    "print('%0.1f degree Celsius = %0.1f degree Fahrenheit' %(c,f))"
   ]
  },
  {
   "cell_type": "markdown",
   "id": "40be27aa",
   "metadata": {},
   "source": [
    "<b>3. Write a Python program to display calendar?</b>"
   ]
  },
  {
   "cell_type": "code",
   "execution_count": 3,
   "id": "ff4a6aae",
   "metadata": {},
   "outputs": [
    {
     "name": "stdout",
     "output_type": "stream",
     "text": [
      "Enter year: 2021\n",
      "Enter month: 11\n",
      "   November 2021\n",
      "Mo Tu We Th Fr Sa Su\n",
      " 1  2  3  4  5  6  7\n",
      " 8  9 10 11 12 13 14\n",
      "15 16 17 18 19 20 21\n",
      "22 23 24 25 26 27 28\n",
      "29 30\n",
      "\n"
     ]
    }
   ],
   "source": [
    "# import calendar module\n",
    "import calendar\n",
    "\n",
    "yy = int(input(\"Enter year: \"))\n",
    "mm = int(input(\"Enter month: \"))\n",
    "\n",
    "# display the calendar\n",
    "print(calendar.month(yy, mm))"
   ]
  },
  {
   "cell_type": "markdown",
   "id": "781f778b",
   "metadata": {},
   "source": [
    "<b>4.\tWrite a Python program to solve quadratic equation?</b>"
   ]
  },
  {
   "cell_type": "code",
   "execution_count": 4,
   "id": "7e8b5aa4",
   "metadata": {},
   "outputs": [
    {
     "name": "stdout",
     "output_type": "stream",
     "text": [
      "Enter a: 20\n",
      "Enter b: 200\n",
      "Enter c: 21\n",
      "Roots are real and different \n",
      "-0.10612627870313744\n",
      "-9.893873721296861\n"
     ]
    }
   ],
   "source": [
    "# Python program to find roots of quadratic equation\n",
    "import math \n",
    "  \n",
    "  \n",
    "# function to calculate roots\n",
    "def quadeqroots(a, b, c): \n",
    "  \n",
    "    # calculating discriminant using formula\n",
    "    discriminant = b * b - 4 * a * c \n",
    "    sqroot_value = math.sqrt(abs(discriminant)) \n",
    "      \n",
    "    # checking condition for discriminant\n",
    "    if discriminant > 0: \n",
    "        print(\"Roots are real and different \") \n",
    "        print((-b + sqroot_value)/(2 * a)) \n",
    "        print((-b - sqroot_value)/(2 * a)) \n",
    "      \n",
    "    elif discriminant == 0: \n",
    "        print(\"Roots are real and same\") \n",
    "        print(-b / (2 * a)) \n",
    "      \n",
    "    # when discriminant is less than 0\n",
    "    else:\n",
    "        print(\"Complex Roots\") \n",
    "        print(- b / (2 * a), \" + \", sqroot_value, \"i\") \n",
    "        print(- b / (2 * a), \" - \", sqroot_value, \"i\") \n",
    "  \n",
    "# Taking Input from Users\n",
    "a = float(input(\"Enter a: \"))\n",
    "b = float(input(\"Enter b: \"))\n",
    "c = float(input(\"Enter c: \"))\n",
    "  \n",
    "# If a == 0, then incorrect equation\n",
    "if a == 0: \n",
    "        print(\"Input correct values of a,b,c\") \n",
    "else:\n",
    "    quadeqroots(a, b, c)"
   ]
  },
  {
   "cell_type": "markdown",
   "id": "1738d943",
   "metadata": {},
   "source": [
    "<b>5.\tWrite a Python program to swap two variables without temp variable?</b>"
   ]
  },
  {
   "cell_type": "code",
   "execution_count": 5,
   "id": "426df650",
   "metadata": {},
   "outputs": [
    {
     "name": "stdout",
     "output_type": "stream",
     "text": [
      "Enter value of a: 100\n",
      "Enter value of b: 150\n",
      "After Swapping\n",
      "Value of a: 150\n",
      "value of b: 100\n"
     ]
    }
   ],
   "source": [
    "#Input a & b\n",
    "a = input(\"Enter value of a: \")\n",
    "b = input(\"Enter value of b: \")\n",
    "\n",
    "#swapping two variables\n",
    "b, a = a, b\n",
    "\n",
    "#print after swapping\n",
    "print(\"After Swapping\")\n",
    "print(\"Value of a: \"+a)\n",
    "print(\"value of b: \"+b)"
   ]
  }
 ],
 "metadata": {
  "kernelspec": {
   "display_name": "Python 3 (ipykernel)",
   "language": "python",
   "name": "python3"
  },
  "language_info": {
   "codemirror_mode": {
    "name": "ipython",
    "version": 3
   },
   "file_extension": ".py",
   "mimetype": "text/x-python",
   "name": "python",
   "nbconvert_exporter": "python",
   "pygments_lexer": "ipython3",
   "version": "3.9.7"
  }
 },
 "nbformat": 4,
 "nbformat_minor": 5
}
