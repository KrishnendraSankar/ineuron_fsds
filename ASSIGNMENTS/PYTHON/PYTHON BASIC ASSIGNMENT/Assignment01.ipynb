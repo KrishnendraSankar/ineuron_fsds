{
 "cells": [
  {
   "cell_type": "markdown",
   "id": "daa9f4f3-a11c-4177-ac31-86d34a16df7d",
   "metadata": {},
   "source": [
    "1. In the below elements which of them are values or an expression? eg:- values can be integer or string and expressions will be mathematical operators.\n",
    "* \n",
    "'hello'\n",
    "-87.8\n",
    "- \n",
    "/ \n",
    "+\n",
    "6 \n",
    "\n",
    "Ans: Expressions are: *, -, /, +\n",
    "     Values are: 'hello', -87.8, 6"
   ]
  },
  {
   "cell_type": "markdown",
   "id": "2186190d-3d0b-4b12-b5af-cb2d02d7c713",
   "metadata": {},
   "source": [
    "2. What is the difference between string and variable?\n",
    "\n",
    "Ans: A Variable is a reserved memory location to store a value. e.g. a=100 . Here a is a variable.\n",
    "String is a type of information that store in a Variable. It is a datatype which is used to represent text type data. A String is usually enclosed with \"\". e.g. x = \"Hello\". Here x is a string type variable."
   ]
  },
  {
   "cell_type": "markdown",
   "id": "c663d89a-5550-42da-97d4-d5d6d5036004",
   "metadata": {},
   "source": [
    "3. Describe three different data types.\n",
    "\n",
    "Ans. \n",
    "Three different datatypes in Python:\n",
    "    1. Numeric: This kind of datatype represents data which contains numeric values. Numeric values can be Integer, Float and Complex Number.\n",
    "    2. Sequence: Sequence is the ordered collection of similar or different data types which allows to store multiple values in an organized and efficient fashion. String, List, Tuple are examples of Sequence Data Types.\n",
    "    3. Boolean: This is the data type with one of the two built in values True and False. It is denoted by the class bool."
   ]
  },
  {
   "cell_type": "markdown",
   "id": "289e4235-6f45-43f3-85e5-f72629178c34",
   "metadata": {},
   "source": [
    "4. What is an expression made up of? What do all expressions do?\n",
    "\n",
    "Ans: An expression is a combination of operators and operands that is interpreted to produce some other value. Various kind of expressions are: Logical expressions, Bitwise expressions, Nemerical Expression, etc. e.g.  x > y && x == 10 (This is a logical expression)."
   ]
  },
  {
   "cell_type": "markdown",
   "id": "6ec4f4c6-9f80-4c08-8ee7-f2ed4ee3379b",
   "metadata": {},
   "source": [
    "5. This assignment statements, like spam = 10. What is the difference between an expression and a statement?\n",
    "\n",
    "Ans: A Statements represent an action or command which does something. e.g print statements, assignment statements, etc. \n",
    "     Expression is a combination of operators and operands that yields a result value. An expression is something that can be reduced to a value. e.g. “Hello” + “World”, 4 + 5 etc."
   ]
  },
  {
   "cell_type": "markdown",
   "id": "4766770d-ca17-4d4b-bc2b-e9418a9abddf",
   "metadata": {},
   "source": [
    "6. After running the following code, what does the variable bacon contain?\n",
    "bacon = 22\n",
    "bacon + 1\n",
    "\n",
    "Ans: After running the following two lines: \n",
    "bacon = 22\n",
    "bacon + 1\n",
    "\n",
    "If we print the value of bacon then the value will be 22 as however the second line added 1 with the value of bacon but that was not stored into the bacon variable. So after running the 2 lines of code the value of bacon will be 22. If the second line contains bacon += 1 then the value of bacon will become 23."
   ]
  },
  {
   "cell_type": "markdown",
   "id": "63ca0560-c4eb-43f8-a48d-814a3624b59b",
   "metadata": {},
   "source": [
    "7. What should the values of the following two terms be?\n",
    "'spam' + 'spamspam'\n",
    "'spam' * 3\n",
    "\n",
    "Ans: For both the cases the result will be: 'spamspamspam'"
   ]
  },
  {
   "cell_type": "markdown",
   "id": "11118d0c-5c6c-44a4-a4f9-c080de6eca63",
   "metadata": {},
   "source": [
    "8. Why is eggs a valid variable name while 100 is invalid?\n",
    "\n",
    "Ans:  100 is a literal because it literally has the value 100 thats why any value can not be assigned in 100. While eggs is a string and it can be used as a variable. "
   ]
  },
  {
   "cell_type": "markdown",
   "id": "b28554b8-711f-4ebe-9a80-e71c07505619",
   "metadata": {},
   "source": [
    "9. What three functions can be used to get the integer, floating-point number, or string version of a value?\n",
    "\n",
    "Ans: Integer: int()\n",
    "     Floating Point: float()\n",
    "     String: str()"
   ]
  },
  {
   "cell_type": "markdown",
   "id": "93392390-297f-4e42-ad5c-151be6a1ee94",
   "metadata": {},
   "source": [
    "10. Why does this expression cause an error? How can you fix it?\n",
    "'I have eaten ' + 99 + ' burritos.'\n",
    "\n",
    "Ans: In python, string can not be concatenated with integer. Here 99 is integer and other parts are string. So the error will come if the statement will run. The following statement will run properly: \n",
    "\n",
    "'I have eaten ' + '99' + ' burritos.'"
   ]
  },
  {
   "cell_type": "code",
   "execution_count": null,
   "id": "5e7a04ae-8c9f-40a3-beeb-4160ea6924a0",
   "metadata": {},
   "outputs": [],
   "source": []
  },
  {
   "cell_type": "code",
   "execution_count": null,
   "id": "ea990289-4ee9-4d44-bdb9-142a8d428b0e",
   "metadata": {},
   "outputs": [],
   "source": []
  },
  {
   "cell_type": "code",
   "execution_count": null,
   "id": "99b18ad9-069e-4cde-a91c-8169f90fc260",
   "metadata": {},
   "outputs": [],
   "source": []
  }
 ],
 "metadata": {
  "kernelspec": {
   "display_name": "Python 3 (ipykernel)",
   "language": "python",
   "name": "python3"
  },
  "language_info": {
   "codemirror_mode": {
    "name": "ipython",
    "version": 3
   },
   "file_extension": ".py",
   "mimetype": "text/x-python",
   "name": "python",
   "nbconvert_exporter": "python",
   "pygments_lexer": "ipython3",
   "version": "3.9.7"
  }
 },
 "nbformat": 4,
 "nbformat_minor": 5
}
