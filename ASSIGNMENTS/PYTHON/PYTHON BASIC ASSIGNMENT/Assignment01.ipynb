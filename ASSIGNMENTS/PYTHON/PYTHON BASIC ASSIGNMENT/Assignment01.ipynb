{
 "cells": [
  {
   "cell_type": "markdown",
   "id": "91237272-f95c-439a-8c2c-03ea06c844b8",
   "metadata": {
    "tags": []
   },
   "source": [
    "<b>1\. In the below elements which of them are values or an expression? eg:- values can be integer or string and expressions will be mathematical operators.</b><br>\n",
    " \\* 'hello' -87.8 - / + 6 \n",
    "\n",
    "Ans: \n",
    "Expressions are: *, -, /, +\n",
    "\n",
    "Values are: 'hello', -87.8, 6"
   ]
  },
  {
   "cell_type": "markdown",
   "id": "a18bf178",
   "metadata": {},
   "source": [
    "<b>2\. What is the difference between string and variable?</b>\n",
    "\n",
    "Ans: A Variable is a reserved memory location to store a value. e.g. a=100 . Here a is a variable.\n",
    "String is a type of information that store in a Variable. It is a datatype which is used to represent text type data. A String is usually enclosed with \"\". e.g. x = \"Hello\". Here x is a string type variable."
   ]
  },
  {
   "cell_type": "markdown",
   "id": "7aed5d5a",
   "metadata": {},
   "source": [
    "<b>3\. Describe three different data types.</b>\n",
    "\n",
    "Ans. \n",
    "Three different datatypes in Python:\n",
    "    1. Numeric: This kind of datatype represents data which contains numeric values. Numeric values can be Integer, Float and Complex Number.\n",
    "    2. Sequence: Sequence is the ordered collection of similar or different data types which allows to store multiple values in an organized and efficient fashion. String, List, Tuple are examples of Sequence Data Types.\n",
    "    3. Boolean: This is the data type with one of the two built in values True and False. It is denoted by the class bool."
   ]
  },
  {
   "cell_type": "markdown",
   "id": "2a46fb09",
   "metadata": {},
   "source": [
    "<b>4\. What is an expression made up of? What do all expressions do?</b>\n",
    "\n",
    "Ans: An expression is a combination of operators and operands that is interpreted to produce some other value. Various kind of expressions are: Logical expressions, Bitwise expressions, Nemerical Expression, etc. e.g.  x > y && x == 10 (This is a logical expression)."
   ]
  },
  {
   "cell_type": "markdown",
   "id": "753d06c8",
   "metadata": {},
   "source": [
    "<b>5\. This assignment statements, like spam = 10. What is the difference between an expression and a statement?</b>\n",
    "\n",
    "Ans: A Statements represent an action or command which does something. e.g print statements, assignment statements, etc. \n",
    "     Expression is a combination of operators and operands that yields a result value. An expression is something that can be reduced to a value. e.g. “Hello” + “World”, 4 + 5 etc."
   ]
  },
  {
   "cell_type": "markdown",
   "id": "b3920a1e",
   "metadata": {},
   "source": [
    "<b>6\. After running the following code, what does the variable bacon contain?</b><br>\n",
    "bacon = 22<br>\n",
    "bacon + 1<br>\n",
    "\n",
    "Ans: After running the following two lines: <br>\n",
    "bacon = 22<br>\n",
    "bacon + 1<br>\n",
    "\n",
    "If we print the value of bacon then the value will be 22 as however the second line added 1 with the value of bacon but that was not stored into the bacon variable. So after running the 2 lines of code the value of bacon will be 22. If the second line contains bacon += 1 then the value of bacon will become 23."
   ]
  },
  {
   "cell_type": "markdown",
   "id": "ea6d1e1e",
   "metadata": {},
   "source": [
    "<b>7\. What should the values of the following two terms be?</b><br>\n",
    "'spam' + 'spamspam'<br>\n",
    "'spam' * 3<br>\n",
    "\n",
    "Ans: For both the cases the result will be: 'spamspamspam'"
   ]
  },
  {
   "cell_type": "markdown",
   "id": "8c569675",
   "metadata": {},
   "source": [
    "<b>8\. Why is eggs a valid variable name while 100 is invalid?</b><br>\n",
    "\n",
    "Ans:  100 is a literal because it literally has the value 100 thats why any value can not be assigned in 100. While eggs is a string and it can be used as a variable. "
   ]
  },
  {
   "cell_type": "markdown",
   "id": "af3660db",
   "metadata": {},
   "source": [
    "<b>9\. What three functions can be used to get the integer, floating-point number, or string version of a value?</b><br>\n",
    "\n",
    "Ans: Integer: int()\n",
    "     Floating Point: float()\n",
    "     String: str()"
   ]
  },
  {
   "cell_type": "markdown",
   "id": "6e21c450",
   "metadata": {},
   "source": [
    "<b>10\. Why does this expression cause an error? How can you fix it?</b><br>\n",
    "'I have eaten ' + 99 + ' burritos.'<br>\n",
    "\n",
    "Ans: In python, string can not be concatenated with integer. Here 99 is integer and other parts are string. So the error will come if the statement will run. The following statement will run properly: <br>\n",
    "\n",
    "'I have eaten ' + '99' + ' burritos.'"
   ]
  },
  {
   "cell_type": "raw",
   "id": "7954dae4-5b1d-45a6-b61b-0839e15ff904",
   "metadata": {},
   "source": []
  },
  {
   "cell_type": "raw",
   "id": "eb510bac-707a-43c5-b8ce-34cc21300931",
   "metadata": {},
   "source": []
  },
  {
   "cell_type": "raw",
   "id": "e8b9b938-d93d-412e-a37f-db892593bb73",
   "metadata": {},
   "source": []
  }
 ],
 "metadata": {
  "kernelspec": {
   "display_name": "Python 3 (ipykernel)",
   "language": "python",
   "name": "python3"
  },
  "language_info": {
   "codemirror_mode": {
    "name": "ipython",
    "version": 3
   },
   "file_extension": ".py",
   "mimetype": "text/x-python",
   "name": "python",
   "nbconvert_exporter": "python",
   "pygments_lexer": "ipython3",
   "version": "3.9.7"
  }
 },
 "nbformat": 4,
 "nbformat_minor": 5
}
