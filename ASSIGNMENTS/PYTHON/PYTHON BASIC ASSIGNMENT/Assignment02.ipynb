{
 "cells": [
  {
   "cell_type": "markdown",
   "id": "1390d470",
   "metadata": {},
   "source": [
    "<b>1.What are the two values of the Boolean data type? How do you write them?</b><br>\n",
    "Ans. Two values of Boolean Data Type are: <b>True</b> and <b>False</b>"
   ]
  },
  {
   "cell_type": "markdown",
   "id": "1fb1de63",
   "metadata": {},
   "source": [
    "<b>2. What are the three different types of Boolean operators?</b><br>\n",
    "Ans. The three basic boolean operators are: <b>AND, OR, NOT</b>."
   ]
  },
  {
   "cell_type": "markdown",
   "id": "00be8841",
   "metadata": {},
   "source": [
    "<b>3. Make a list of each Boolean operator's truth tables (i.e. every possible combination of Boolean values for the operator and what it evaluate ).</b><br>\n",
    "Ans.<br>\n",
    "AND Operator (A & B are Input and Q is Output)<br>\n",
    "\n",
    "<table>\n",
    "<tr>\n",
    "    <th>A</th>\n",
    "    <th>B</th>\n",
    "    <th>Q</th> \n",
    "</tr>\n",
    "\n",
    "<tr>\n",
    "    <td>0</td> \n",
    "    <td>0</td> \n",
    "    <td>0</td>\n",
    "</tr>\n",
    "\n",
    "<tr>\n",
    "    <td>0</td> \n",
    "    <td>1</td> \n",
    "    <td>0</td>   \n",
    "</tr>\n",
    "\n",
    "<tr>\n",
    "    <td>1</td> \n",
    "    <td>0</td> \n",
    "    <td>0</td>   \n",
    "</tr>\n",
    "\n",
    "<tr>\n",
    "    <td>1</td> \n",
    "    <td>1</td> \n",
    "    <td>1</td>   \n",
    "</tr>\n",
    "\n",
    "</table>\n",
    "\n",
    "OR Operator (A & B are Input and Q is Output)<br>\n",
    "\n",
    "<table>\n",
    "<tr>\n",
    "    <th>A</th>\n",
    "    <th>B</th>\n",
    "    <th>Q</th> \n",
    "</tr>\n",
    "\n",
    "<tr>\n",
    "    <td>0</td> \n",
    "    <td>0</td> \n",
    "    <td>0</td>\n",
    "</tr>\n",
    "\n",
    "<tr>\n",
    "    <td>0</td> \n",
    "    <td>1</td> \n",
    "    <td>1</td>   \n",
    "</tr>\n",
    "\n",
    "<tr>\n",
    "    <td>1</td> \n",
    "    <td>0</td> \n",
    "    <td>1</td>   \n",
    "</tr>\n",
    "\n",
    "<tr>\n",
    "    <td>1</td> \n",
    "    <td>1</td> \n",
    "    <td>1</td>   \n",
    "</tr>\n",
    "\n",
    "</table>\n",
    "\n",
    "NOT Operator (A is Input and Q is Output)<br>\n",
    "\n",
    "<table>\n",
    "<tr>\n",
    "    <th>A</th>\n",
    "    <th>Q</th> \n",
    "</tr>\n",
    "\n",
    "<tr>\n",
    "    <td>0</td> \n",
    "    <td>1</td>\n",
    "</tr>\n",
    "\n",
    "<tr>\n",
    "    <td>1</td> \n",
    "    <td>0</td>   \n",
    "</tr>\n",
    "\n",
    "</table>"
   ]
  },
  {
   "cell_type": "markdown",
   "id": "0e88b557",
   "metadata": {},
   "source": [
    "<b>4. What are the values of the following expressions? <br>\n",
    "(5 > 4) and (3 == 5) <br>\n",
    "not (5 > 4) <br>\n",
    "(5 > 4) or (3 == 5) <br>\n",
    "not ((5 > 4) or (3 == 5)) <br>\n",
    "(True and True) and (True == False) <br>\n",
    "(not False) or (not True) </b><br>\n",
    "\n",
    "Ans.<br>\n",
    "(5 > 4) and (3 == 5) -- False(0)<br>\n",
    "not (5 > 4) -- False(0)<br>\n",
    "(5 > 4) or (3 == 5) -- True(1) <br>\n",
    "not ((5 > 4) or (3 == 5)) -- False(0) <br>\n",
    "(True and True) and (True == False) -- False(0) <br>\n",
    "(not False) or (not True) -- True(1)"
   ]
  },
  {
   "cell_type": "markdown",
   "id": "eca0d9d7",
   "metadata": {},
   "source": [
    "<b>5. What are the six comparison operators?</b><br>\n",
    "Ans. <br>\n",
    "==  : If the values of two operands are equal, then the condition becomes true.<br>\n",
    "!=  : If values of two operands are not equal, then condition becomes true.<br>\n",
    "\\>  : If the value of left operand is greater than the value of right operand, then condition becomes true.<br>\n",
    "\\<  : If the value of left operand is less than the value of right operand, then condition becomes true.<br>\n",
    "\\>= : If the value of left operand is greater than or equal to the value of right operand, then condition becomes true.<br>\n",
    "\\<= : If the value of left operand is less than or equal to the value of right operand, then condition becomes true.\n"
   ]
  },
  {
   "cell_type": "markdown",
   "id": "52787e92",
   "metadata": {},
   "source": [
    "<b>6. How do you tell the difference between the equal to and assignment operators? Describe a condition and when you would use one.</b><br>\n",
    "Ans. <b>Assignment Operator</b>: Assignment operator is used to assign the values to the variable. e.g. x=10<br>\n",
    "<b>Equal To</b>: The equality operator is used to compare the values of both the variables and the result is True or False. e.g. (3 == 5) \n",
    "<br>"
   ]
  },
  {
   "cell_type": "markdown",
   "id": "bfccde3e",
   "metadata": {},
   "source": [
    "<b>7. Identify the three blocks in this code:<br>\n",
    "spam = 0<br>\n",
    "if spam == 10:<br>\n",
    "print('eggs')<br>\n",
    "if spam > 5:<br>\n",
    "print('bacon')<br>\n",
    "else:<br>\n",
    "print('ham')<br>\n",
    "print('spam')<br>\n",
    "print('spam')</b><br>\n",
    "\n",
    "Ans. \n",
    "\n",
    "spam = 0<br>\n",
    "\n",
    "First block:<br>\n",
    "if spam == 10:<br>\n",
    "print('eggs')\n",
    "\n",
    "Second block:<br>\n",
    "if spam > 5:<br>\n",
    "print('bacon')\n",
    "\n",
    "Third block:<br>\n",
    "else:<br>\n",
    "print('ham')<br>\n",
    "print('spam')<br>\n",
    "print('spam')\n"
   ]
  },
  {
   "cell_type": "markdown",
   "id": "051b9296",
   "metadata": {},
   "source": [
    "<b>8. Write code that prints Hello if 1 is stored in spam, prints Howdy if 2 is stored in spam, and prints Greetings! if anything else is stored in spam.</b><br>\n",
    "Ans. <br>\n",
    "spam = 0<br>\n",
    "if spam==1:<br>\n",
    "    &emsp; print('Hello')<br>\n",
    "elif spam==2:<br>\n",
    "    &emsp; print('Howdy')<br>\n",
    "else:<br>\n",
    "    &emsp; print('Greetings')<br>\n"
   ]
  },
  {
   "cell_type": "markdown",
   "id": "8c73baae",
   "metadata": {},
   "source": [
    "<b>9.If your programme is stuck in an endless loop, what keys you’ll press?</b><br>\n",
    "Ans. Ctrl + C"
   ]
  },
  {
   "cell_type": "markdown",
   "id": "bff57d8d",
   "metadata": {},
   "source": [
    "<b>10. How can you tell the difference between break and continue?</b><br>\n",
    "Ans. The Python break statement stops the loop in which the statement is placed. A Python continue statement skips a single iteration in a loop. Both break and continue statements can be used in a for or a while loop."
   ]
  },
  {
   "cell_type": "markdown",
   "id": "fa3074fc",
   "metadata": {},
   "source": [
    "<b>11. In a for loop, what is the difference between range(10), range(0, 10), and range(0, 10, 1)?</b><br>\n",
    "Ans. There is no difference in output if we use range(10), range(0, 10), and range(0, 10, 1) in for loop. I all cases the loop will continue for 0 to 9 with increment of 1 in each step."
   ]
  },
  {
   "cell_type": "markdown",
   "id": "dec9105d",
   "metadata": {},
   "source": [
    "<b>12. Write a short program that prints the numbers 1 to 10 using a for loop. Then write an equivalent program that prints the numbers 1 to 10 using a while loop.</b><br>\n",
    "Ans. For loop to print 1 to 10"
   ]
  },
  {
   "cell_type": "code",
   "execution_count": 1,
   "id": "47f510fd",
   "metadata": {},
   "outputs": [
    {
     "name": "stdout",
     "output_type": "stream",
     "text": [
      "1\n",
      "2\n",
      "3\n",
      "4\n",
      "5\n",
      "6\n",
      "7\n",
      "8\n",
      "9\n",
      "10\n"
     ]
    }
   ],
   "source": [
    "for i in range(1, 11):\n",
    "    print(i)"
   ]
  },
  {
   "cell_type": "markdown",
   "id": "7fcbee64",
   "metadata": {},
   "source": [
    "While Loop to print 1 to 10"
   ]
  },
  {
   "cell_type": "code",
   "execution_count": 2,
   "id": "227adf11",
   "metadata": {},
   "outputs": [
    {
     "name": "stdout",
     "output_type": "stream",
     "text": [
      "1\n",
      "2\n",
      "3\n",
      "4\n",
      "5\n",
      "6\n",
      "7\n",
      "8\n",
      "9\n",
      "10\n"
     ]
    }
   ],
   "source": [
    "i = 1\n",
    "while (i < 11):\n",
    "    print(i)\n",
    "    i=i+1"
   ]
  },
  {
   "cell_type": "markdown",
   "id": "ffe36dff",
   "metadata": {},
   "source": [
    "<b>13. If you had a function named bacon() inside a module named spam, how would you call it after importing spam?</b><br>\n",
    "Ans. <br>\n",
    "import spam<br>\n",
    "spam.bacon()"
   ]
  }
 ],
 "metadata": {
  "kernelspec": {
   "display_name": "Python 3 (ipykernel)",
   "language": "python",
   "name": "python3"
  },
  "language_info": {
   "codemirror_mode": {
    "name": "ipython",
    "version": 3
   },
   "file_extension": ".py",
   "mimetype": "text/x-python",
   "name": "python",
   "nbconvert_exporter": "python",
   "pygments_lexer": "ipython3",
   "version": "3.9.7"
  }
 },
 "nbformat": 4,
 "nbformat_minor": 5
}
