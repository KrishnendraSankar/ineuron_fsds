{
 "cells": [
  {
   "cell_type": "markdown",
   "id": "c2d5075d",
   "metadata": {},
   "source": [
    "<b>1. Why are functions advantageous to have in your programs?</b><br>\n",
    "Ans. Functions enable reuse of code, improve maintainability and scalability. This makes programs shorter, easier to read, and easier to update."
   ]
  },
  {
   "cell_type": "markdown",
   "id": "fb59f518",
   "metadata": {},
   "source": [
    "<b>2. When does the code in a function run: when it's specified or when it's called?</b><br>\n",
    "Ans. The code in a function run when it is called."
   ]
  },
  {
   "cell_type": "markdown",
   "id": "cedbcfe7",
   "metadata": {},
   "source": [
    "<b>3. What statement creates a function?</b><br>\n",
    "Ans. def keyword is used to create a function. e.g.<br>\n",
    "def func1(args):<br>\n",
    "    &emsp; #Code inside the function"
   ]
  },
  {
   "cell_type": "markdown",
   "id": "d09c6a6d",
   "metadata": {},
   "source": [
    "<b>4. What is the difference between a function and a function call?</b><br>\n",
    "Ans. A function is a piece of code which enhanced the reusability and modularity of your program. A function call means invoking or calling that function."
   ]
  },
  {
   "cell_type": "markdown",
   "id": "34a1a4f9",
   "metadata": {},
   "source": [
    "<b>5. How many global scopes are there in a Python program? How many local scopes?</b><br>\n",
    "Ans. There is only one global scope in python. Unlimited number of local scope can be in a python program."
   ]
  },
  {
   "cell_type": "markdown",
   "id": "15009c63",
   "metadata": {},
   "source": [
    "<b>6. What happens to variables in a local scope when the function call returns?</b><br>\n",
    "Ans. The variable in a local space is confined to that space of function can only be used in that function and retains its value untill next time function is called."
   ]
  },
  {
   "cell_type": "markdown",
   "id": "400dfba4",
   "metadata": {},
   "source": [
    "<b>7. What is the concept of a return value? Is it possible to have a return value in an expression?</b><br>\n",
    "Ans. A return value is a value that a function returns to the calling script or function when it completes its task.<br>\n",
    "yes it is possible to have return value in an expression."
   ]
  },
  {
   "cell_type": "markdown",
   "id": "4f244030",
   "metadata": {},
   "source": [
    "<b>8. If a function does not have a return statement, what is the return value of a call to that function?</b><br>\n",
    "Ans. If a function does not have a return statement, It will not return any specific value."
   ]
  },
  {
   "cell_type": "markdown",
   "id": "b3608d84",
   "metadata": {},
   "source": [
    "<b>9. How do you make a function variable refer to the global variable?</b><br>\n",
    "Ans. To make a function variable refer to the global variable, we can use the global keyword to declare which variables are global."
   ]
  },
  {
   "cell_type": "markdown",
   "id": "0741000b",
   "metadata": {},
   "source": [
    "<b>10. What is the data type of None?</b><br>\n",
    "Ans. The datatype of None is \"NoneType\". It is neither Zero or any other value."
   ]
  },
  {
   "cell_type": "markdown",
   "id": "e746186f",
   "metadata": {},
   "source": [
    "<b>11. What does the sentence import areallyourpetsnamederic do?</b><br>\n",
    "Ans. It will import areallyourpetsnamederic module."
   ]
  },
  {
   "cell_type": "markdown",
   "id": "93f72b7a",
   "metadata": {},
   "source": [
    "<b>12. If you had a bacon() feature in a spam module, what would you call it after importing spam?</b><br>\n",
    "Ans. spam.bacon()"
   ]
  },
  {
   "cell_type": "markdown",
   "id": "39bb2f00",
   "metadata": {},
   "source": [
    "<b>13. What can you do to save a programme from crashing if it encounters an error?</b><br>\n",
    "Ans. We can use try, except, finally blocks to prevent a programme from crashing if it encounters an error."
   ]
  },
  {
   "cell_type": "markdown",
   "id": "dae19036",
   "metadata": {},
   "source": [
    "<b>14. What is the purpose of the try clause? What is the purpose of the except clause?</b><br>\n",
    "Ans. TRY CLAUSE: The try block helps to test a block of code for errors.\n",
    "\n",
    "EXCEPT CLAUSE: The except block helps handle the error."
   ]
  },
  {
   "cell_type": "code",
   "execution_count": null,
   "id": "bdb121a3",
   "metadata": {},
   "outputs": [],
   "source": []
  }
 ],
 "metadata": {
  "kernelspec": {
   "display_name": "Python 3 (ipykernel)",
   "language": "python",
   "name": "python3"
  },
  "language_info": {
   "codemirror_mode": {
    "name": "ipython",
    "version": 3
   },
   "file_extension": ".py",
   "mimetype": "text/x-python",
   "name": "python",
   "nbconvert_exporter": "python",
   "pygments_lexer": "ipython3",
   "version": "3.9.7"
  }
 },
 "nbformat": 4,
 "nbformat_minor": 5
}
